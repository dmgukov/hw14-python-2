{
 "cells": [
  {
   "cell_type": "code",
   "execution_count": 17,
   "id": "f5cd7b1a-a9f5-478e-a89d-c815e4742628",
   "metadata": {
    "tags": []
   },
   "outputs": [
    {
     "name": "stdout",
     "output_type": "stream",
     "text": [
      "Failed to establish a connection with https://www.somesite.test\n",
      "https://69.63.176.54 timed out after 5 seconds\n",
      "Failed to establish a connection with https://iamnotexist.net\n",
      "Failed to establish a connection with https://localhost:8080\n",
      "https://66.220.144.21 timed out after 5 seconds\n"
     ]
    }
   ],
   "source": [
    "import requests\n",
    "\n",
    "\n",
    "def check_addresses(address_list):\n",
    "    # remove new line characters\n",
    "    address_list = [x.strip() for x in address_list]\n",
    "\n",
    "    for address in address_list:\n",
    "        try:\n",
    "            response = requests.get(address, timeout=5)\n",
    "            if response.status_code != 200:\n",
    "                print(f\"{address} returned a status code of {response.status_code}\")\n",
    "        except requests.exceptions.Timeout:\n",
    "            print(f\"{address} timed out after 5 seconds\")\n",
    "        except requests.exceptions.RequestException:\n",
    "            print(f\"Failed to establish a connection with {address}\")\n",
    "\n",
    "\n",
    "with open(\"address_list.txt\") as f:\n",
    "    address_list = f.readlines()\n",
    "\n",
    "check_addresses(address_list)"
   ]
  },
  {
   "cell_type": "code",
   "execution_count": null,
   "id": "7ff8f3e3-addd-4ba6-ab30-8b7c149bcc13",
   "metadata": {},
   "outputs": [],
   "source": []
  }
 ],
 "metadata": {
  "kernelspec": {
   "display_name": "Python 3 (ipykernel)",
   "language": "python",
   "name": "python3"
  },
  "language_info": {
   "codemirror_mode": {
    "name": "ipython",
    "version": 3
   },
   "file_extension": ".py",
   "mimetype": "text/x-python",
   "name": "python",
   "nbconvert_exporter": "python",
   "pygments_lexer": "ipython3",
   "version": "3.10.10"
  }
 },
 "nbformat": 4,
 "nbformat_minor": 5
}
