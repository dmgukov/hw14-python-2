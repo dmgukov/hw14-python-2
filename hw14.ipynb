{
 "cells": [
  {
   "cell_type": "code",
   "execution_count": 1,
   "id": "f5cd7b1a-a9f5-478e-a89d-c815e4742628",
   "metadata": {
    "tags": []
   },
   "outputs": [
    {
     "name": "stdout",
     "output_type": "stream",
     "text": [
      "['Failed to establish a connection with https://www.somesite.test', 'https://69.63.176.54 timed out after 5 seconds', 'Failed to establish a connection with https://iamnotexist.net', 'Failed to establish a connection with https://localhost:8080', 'https://66.220.144.21 timed out after 5 seconds']\n"
     ]
    }
   ],
   "source": [
    "import requests\n",
    "\n",
    "\n",
    "def check_addresses(address_list):\n",
    "    # remove new line characters\n",
    "    address_list = [x.strip() for x in address_list]\n",
    "\n",
    "    # list value to collect non-working addresses\n",
    "    results_list = []\n",
    "\n",
    "    for address in address_list:\n",
    "        try:\n",
    "            response = requests.get(address, timeout=5)\n",
    "            if response.status_code != 200:\n",
    "                results_list.append(address)\n",
    "        except requests.exceptions.Timeout:\n",
    "            results_list.append(f\"{address} timed out after 5 seconds\")\n",
    "        except requests.exceptions.RequestException:\n",
    "            results_list.append(f\"Failed to establish a connection with {address}\")\n",
    "    return results_list\n",
    "\n",
    "\n",
    "with open(\"address_list.txt\") as f:\n",
    "    address_list = f.readlines()\n",
    "\n",
    "results = check_addresses(address_list)\n",
    "print(results)"
   ]
  },
  {
   "cell_type": "code",
   "execution_count": null,
   "id": "79109c99-f2c5-4ab8-8834-ad9384039ee3",
   "metadata": {},
   "outputs": [],
   "source": []
  }
 ],
 "metadata": {
  "kernelspec": {
   "display_name": "Python 3 (ipykernel)",
   "language": "python",
   "name": "python3"
  },
  "language_info": {
   "codemirror_mode": {
    "name": "ipython",
    "version": 3
   },
   "file_extension": ".py",
   "mimetype": "text/x-python",
   "name": "python",
   "nbconvert_exporter": "python",
   "pygments_lexer": "ipython3",
   "version": "3.10.10"
  }
 },
 "nbformat": 4,
 "nbformat_minor": 5
}
